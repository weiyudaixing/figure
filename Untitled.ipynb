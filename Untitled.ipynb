{
 "cells": [
  {
   "cell_type": "code",
   "execution_count": 448,
   "metadata": {
    "pycharm": {
     "is_executing": false
    }
   },
   "outputs": [],
   "source": [
    "from __future__ import print_function # to avoid issues between Python 2 and 3 printing\n",
    "from glob import glob\n",
    "import os\n",
    "import sys\n",
    "import pandas as pd\n",
    "import numpy as np\n",
    "from skimage import data, io, color, transform, exposure\n",
    "import matplotlib.pyplot as plt\n",
    "import scipy.linalg\n",
    "\n",
    "# show matplotlib figures inline\n",
    "%matplotlib inline"
   ]
  },
  {
   "cell_type": "code",
   "execution_count": 449,
   "metadata": {
    "pycharm": {
     "is_executing": false
    }
   },
   "outputs": [],
   "source": [
    "# By default we set figures to be 6\"x4\" on a 110 dots per inch (DPI) screen \n",
    "# (adjust DPI if you have a high res screen!)\n",
    "plt.rc('figure', figsize=(6, 4), dpi=110)\n",
    "plt.rc('font', size=10)"
   ]
  },
  {
   "cell_type": "code",
   "execution_count": 450,
   "metadata": {
    "pycharm": {
     "is_executing": false
    }
   },
   "outputs": [],
   "source": [
    "def load_points_from_file(filename):\n",
    "    \"\"\"Loads 2d points from a csv called filename\n",
    "    Args:\n",
    "        filename : Path to .csv file\n",
    "    Returns:\n",
    "        (xs, ys) where xs and ys are a numpy array of the co-ordinates.\n",
    "    \"\"\"\n",
    "    points = pd.read_csv(filename, header=None)\n",
    "    return points[0].values, points[1].values\n",
    "\n",
    "\n",
    "def view_data_segments(xs, ys):\n",
    "    \"\"\"Visualises the input file with each segment plotted in a different colour.\n",
    "    Args:\n",
    "        xs : List/array-like of x co-ordinates.\n",
    "        ys : List/array-like of y co-ordinates.\n",
    "    Returns:\n",
    "        None\n",
    "    \"\"\"\n",
    "    assert len(xs) == len(ys)\n",
    "    assert len(xs) % 20 == 0\n",
    "    len_data = len(xs)\n",
    "    num_segments = len_data // 20\n",
    "    colour = np.concatenate([[i] * 20 for i in range(num_segments)])\n",
    "    plt.set_cmap('Dark2')\n",
    "    plt.scatter(xs, ys, c=colour)\n",
    "    plt.show()"
   ]
  },
  {
   "cell_type": "code",
   "execution_count": 451,
   "metadata": {
    "pycharm": {
     "is_executing": false
    }
   },
   "outputs": [],
   "source": [
    "def split_list(xs):\n",
    "    chunks = [xs[20 * i : 20 * ( i + 1 )] for i in range(len(xs)//20)]\n",
    "    return chunks"
   ]
  },
  {
   "cell_type": "code",
   "execution_count": 452,
   "metadata": {},
   "outputs": [],
   "source": [
    "\"\"\"Matrix manipulation\"\"\"\n",
    "def transpose_matrix(m):\n",
    "    return np.asarray([list(x) for x in zip(*m)], dtype=np.longdouble)\n",
    "\n",
    "\n",
    "def get_matrix_minor(m, i, j):\n",
    "    m = np.delete(m, i, axis=0)\n",
    "    m = np.delete(m, j, axis=1)\n",
    "    return m\n",
    "\n",
    "\n",
    "def get_matrix_determinant(m):\n",
    "    # base case for 2x2 matrix\n",
    "    # m_list = [s.tolist() for s in s]\n",
    "    if len(m) == 2:\n",
    "        return m[0][0] * m[1][1] - m[0][1] * m[1][0]\n",
    "\n",
    "    determinant = 0\n",
    "    for c in range(len(m)):\n",
    "        determinant += ((-1) ** c) * m[0][c] * get_matrix_determinant(get_matrix_minor(m, 0, c))\n",
    "    return determinant\n",
    "\n",
    "\n",
    "def get_matrix_inverse(m):\n",
    "    determinant = get_matrix_determinant(m)\n",
    "    # special case for 2x2 matrix:\n",
    "    if len(m) == 2:\n",
    "        return np.asarray([[m[1][1] / determinant, -1 * m[0][1] / determinant],\n",
    "                           [-1 * m[1][0] / determinant, m[0][0] / determinant]], dtype=np.longdouble)\n",
    "\n",
    "    # find matrix of cofactors\n",
    "    cofactors = []\n",
    "    for r in range(len(m)):\n",
    "        cofactor_row = []\n",
    "        for c in range(len(m)):\n",
    "            minor = get_matrix_minor(m, r, c)\n",
    "            cofactor_row.append(((-1) ** (r + c)) * get_matrix_determinant(minor))\n",
    "        cofactors.append(cofactor_row)\n",
    "    cofactors = transpose_matrix(cofactors)\n",
    "    for r in range(len(cofactors)):\n",
    "        for c in range(len(cofactors)):\n",
    "            cofactors[r][c] = cofactors[r][c] / determinant\n",
    "    return cofactors"
   ]
  },
  {
   "cell_type": "code",
   "execution_count": 453,
   "metadata": {},
   "outputs": [],
   "source": [
    "def LU_decomposition(A):\n",
    "    \"\"\"Perform LU decomposition using the Doolittle factorisation.\"\"\"\n",
    "\n",
    "    L = np.zeros_like(A)\n",
    "    U = np.zeros_like(A)\n",
    "    N = np.size(A, 0)\n",
    "\n",
    "    for k in range(N):\n",
    "        L[k, k] = 1\n",
    "        U[k, k] = (A[k, k] - np.dot(L[k, :k], U[:k, k])) / L[k, k]\n",
    "        for j in range(k+1, N):\n",
    "            U[k, j] = (A[k, j] - np.dot(L[k, :k], U[:k, j])) / L[k, k]\n",
    "        for i in range(k+1, N):\n",
    "            L[i, k] = (A[i, k] - np.dot(L[i, :k], U[:k, k])) / U[k, k]\n",
    "\n",
    "    return L, U\n",
    "\n",
    "def forward_sub(L,b):\n",
    "    \"\"\" Unit row oriented forward substitution \"\"\"\n",
    "    for i in range(L.shape[0]): \n",
    "        for j in range(i):\n",
    "            b[i] -= L[i,j]*b[j]\n",
    "    return b\n",
    "\n",
    "def backward_sub(U,y):\n",
    "    \"\"\" Row oriented backward substitution \"\"\"\n",
    "    for i in range(U.shape[0]-1,-1,-1): \n",
    "        for j in range(i+1, U.shape[1]):\n",
    "            y[i] -= U[i,j]*y[j]\n",
    "        y[i] = y[i]/U[i,i]\n",
    "    return y\n",
    "\n",
    "def lu_poly_least_squares(xs, ys, degree):\n",
    "    # extend the first column with 1s\n",
    "    xs = np.array(xs, dtype = np.longdouble)\n",
    "    ys = np.array(ys, dtype = np.longdouble)\n",
    "    \n",
    "    x_e = np.ones(xs.shape)\n",
    "    for i in range(1, degree + 1):\n",
    "        new_col = [x ** i for x in xs]\n",
    "        x_e = np.column_stack((x_e, new_col))\n",
    "    #print(x_e)\n",
    "    \n",
    "    \"\"\"A.dot(COEF) = ys\"\"\"\n",
    "    A = x_e.T.dot(x_e)\n",
    "    L,U = LU_decomposition(A)\n",
    "    bv = (x_e.T).dot(ys)\n",
    "    Y = forward_sub(L,bv)\n",
    "    COEF = backward_sub(U, Y)\n",
    "    v1 = COEF\n",
    "    \n",
    "    ys_hat = np.full(xs.shape, v1[0])\n",
    "    for i in range(1, degree + 1):\n",
    "        ys_hat = np.array([y_hat + v1[i] * (x ** i) for (x, y_hat) in zip(xs, ys_hat)])\n",
    "                          \n",
    "    error = square_error(ys, ys_hat)\n",
    "    return error, v1\n"
   ]
  },
  {
   "cell_type": "code",
   "execution_count": 454,
   "metadata": {},
   "outputs": [],
   "source": [
    "def square_error(y, y_hat):\n",
    "    return np.sum((y - y_hat) ** 2, dtype = np.longdouble)"
   ]
  },
  {
   "cell_type": "code",
   "execution_count": 455,
   "metadata": {},
   "outputs": [],
   "source": [
    "def naive_linear_least_squares(xs, ys):\n",
    "    # extend the first column with 1s\n",
    "    ones = np.ones(xs.shape)\n",
    "    x_e = np.column_stack((ones, xs))\n",
    "    #print(x_e)\n",
    "    v1 = np.linalg.inv(x_e.T.dot(x_e)).dot(x_e.T).dot(ys)\n",
    "    #print(v)\n",
    "    ys_hat = v1[0] + v1[1] * xs\n",
    "    error = square_error(ys, ys_hat)\n",
    "    return error, v1"
   ]
  },
  {
   "cell_type": "code",
   "execution_count": 456,
   "metadata": {},
   "outputs": [],
   "source": [
    "def scipy_linear_least_squares(xs, ys):\n",
    "    ones = np.ones(xs.shape)\n",
    "    x_e = np.column_stack((ones, xs))\n",
    "    p, res, rnk, s = scipy.linalg.lstsq(x_e, ys)\n",
    "    return res,p"
   ]
  },
  {
   "cell_type": "code",
   "execution_count": 457,
   "metadata": {
    "pycharm": {
     "is_executing": false
    }
   },
   "outputs": [],
   "source": [
    "def linear_least_squares(xs, ys):\n",
    "    xs = np.array(xs, dtype = np.longdouble)\n",
    "    ys = np.array(ys, dtype = np.longdouble)\n",
    "    \n",
    "    # extend the first column with 1s\n",
    "    ones = np.ones(xs.shape)\n",
    "    x_e = np.column_stack((ones, xs))\n",
    "    x_t = transpose_matrix(x_e)\n",
    "    \n",
    "    #v = scipy.linalg.inv(x_e.T.dot(x_e)).dot(x_e.T).dot(ys)\n",
    "    v1 = get_matrix_inverse(x_t.dot(x_e)).dot(x_t).dot(ys)\n",
    "    \n",
    "    #calculate square error\n",
    "    ys_hat = v1[0] + v1[1] * xs\n",
    "    error = square_error(ys, ys_hat)\n",
    "    \n",
    "    #return error and the coefficient list\n",
    "    return error, v1\n",
    "\n",
    "#linear_error, linear_co = linear_least_squares(xs, ys)\n",
    "#print(\"linear square error: \", linear_error, \"a: \", linear_co[0], \" b: \", linear_co[1])"
   ]
  },
  {
   "cell_type": "code",
   "execution_count": 458,
   "metadata": {},
   "outputs": [],
   "source": [
    "def sin_numpy(xs, ys, degree):\n",
    "    xs = np.array(xs)\n",
    "    ys = np.array(ys)\n",
    "    \n",
    "    # construct the X matrix\n",
    "    # extend the first column with 1s\n",
    "    x_e = np.ones(xs.shape)\n",
    "    for i in range(1, degree + 1):\n",
    "        new_col = [((np.sin(x)) ** i) for x in xs]\n",
    "        x_e = np.column_stack((x_e, new_col))\n",
    "        \n",
    "    v = np.linalg.inv(x_e.T @ x_e) @ x_e.T @ ys\n",
    "   \n",
    "    # calculate y_hat\n",
    "    ys_hat = np.full(xs.shape, v[0])\n",
    "    for i in range(1, degree + 1):\n",
    "        ys_hat = [y_hat + v[i] * ((np.sin(x)) ** i) for (x, y_hat) in zip(xs, ys_hat)]\n",
    "    \n",
    "    #calculate square error\n",
    "    error = square_error(ys, ys_hat)\n",
    "    print(error)\n",
    "    print(v)\n",
    "    return error, v"
   ]
  },
  {
   "cell_type": "code",
   "execution_count": 459,
   "metadata": {},
   "outputs": [],
   "source": [
    "def sin_least_squares(xs, ys, degree):\n",
    "    xs = np.array(xs, dtype = np.longdouble)\n",
    "    ys = np.array(ys, dtype = np.longdouble)\n",
    "    \n",
    "    # construct the X matrix\n",
    "    # extend the first column with 1s\n",
    "    x_e = np.ones(xs.shape)\n",
    "    for i in range(1, degree + 1):\n",
    "        new_col = [((np.sin(x)) ** i) for x in xs]\n",
    "        x_e = np.column_stack((x_e, new_col))\n",
    "    \n",
    "    \"\"\"A.dot(COEF) = ys\"\"\"\n",
    "    A = x_e.T.dot(x_e)\n",
    "    L,U = LU_decomposition(A)\n",
    "    bv = (x_e.T).dot(ys)\n",
    "    Y = forward_sub(L,bv)\n",
    "    COEF = backward_sub(U, Y)\n",
    "    v = COEF\n",
    "    \n",
    "    # calculate y_hat\n",
    "    ys_hat = np.full(xs.shape, v[0])\n",
    "    for i in range(1, degree + 1):\n",
    "        ys_hat = [y_hat + v[i] * ((np.sin(x)) ** i) for (x, y_hat) in zip(xs, ys_hat)]\n",
    "    \n",
    "    #calculate square error\n",
    "    error = square_error(ys, ys_hat)\n",
    "    #print(backward_error(xs,ys,v))\n",
    "    return error, v"
   ]
  },
  {
   "cell_type": "code",
   "execution_count": 460,
   "metadata": {},
   "outputs": [],
   "source": [
    "def naive_poly_least_squares(xs, ys, degree):\n",
    "    # extend the first column with 1s\n",
    "    x_e = np.ones(xs.shape)\n",
    "    for i in range(1, degree + 1):\n",
    "        new_col = [x ** i for x in xs]\n",
    "        x_e = np.column_stack((x_e, new_col))\n",
    "    print(x_e)\n",
    "    v1 = np.linalg.inv(x_e.T.dot(x_e)).dot(x_e.T).dot(ys)\n",
    "    print(v1)\n",
    "    ys_hat = np.full(xs.shape, v1[0])\n",
    "    for i in range(1, degree + 1):\n",
    "        ys_hat = np.array([y_hat + v1[i] * (x ** i) for (x, y_hat) in zip(xs, ys_hat)])\n",
    "    \n",
    "    print(ys_hat)\n",
    "    error = square_error(ys, ys_hat)\n",
    "    print(error)\n",
    "    return error, v1"
   ]
  },
  {
   "cell_type": "code",
   "execution_count": null,
   "metadata": {},
   "outputs": [],
   "source": []
  },
  {
   "cell_type": "code",
   "execution_count": 461,
   "metadata": {},
   "outputs": [],
   "source": [
    "def scipy_poly_least_squares(xs, ys, degree):\n",
    "    x_e = np.ones(xs.shape)\n",
    "    for i in range(1, degree + 1):\n",
    "        new_col = [x ** i for x in xs]\n",
    "        x_e = np.column_stack((x_e, new_col))\n",
    "        \n",
    "    print(np.linalg.cond(x_e))\n",
    "        \n",
    "    p, res, rnk, s = scipy.linalg.lstsq(x_e, ys)\n",
    "    #print(backward_error(xs,ys,p))\n",
    "    return res,p"
   ]
  },
  {
   "cell_type": "code",
   "execution_count": 462,
   "metadata": {},
   "outputs": [],
   "source": [
    "def refer_poly_least_squares(xs, ys, degree):\n",
    "    pl = np.polynomial.polynomial.Polynomial.fit(xs,ys,degree).convert()\n",
    "    v1 = pl.coef\n",
    "    #print(v1)\n",
    "    ys_hat = np.full(xs.shape, v1[0])\n",
    "    for i in range(1, degree + 1):\n",
    "        ys_hat = np.array([y_hat + v1[i] * (x ** i) for (x, y_hat) in zip(xs, ys_hat)])\n",
    "        \n",
    "    error1 = square_error(ys, ys_hat)\n",
    "    #print(backward_error(xs,ys,v1))\n",
    "    return error1, v1"
   ]
  },
  {
   "cell_type": "code",
   "execution_count": 463,
   "metadata": {
    "pycharm": {
     "name": "#%%\n"
    }
   },
   "outputs": [],
   "source": [
    "def poly_least_squares(xs, ys, degree):\n",
    "    xs = np.array(xs, dtype = np.longdouble)\n",
    "    ys = np.array(ys, dtype = np.longdouble)\n",
    "    \n",
    "    # degree is the normal definition of degree of polynomial\n",
    "    # extend the first column with 1s\n",
    "    x_e = np.ones(xs.shape)\n",
    "    for i in range(1, degree + 1):\n",
    "        new_col = [x ** i for x in xs]\n",
    "        x_e = np.column_stack((x_e, new_col))\n",
    "        \n",
    "    x_t = transpose_matrix(x_e)\n",
    "    v = scipy.linalg.inv(x_e.T.dot(x_e)).dot(x_e.T).dot(ys)\n",
    "    v1 = get_matrix_inverse(x_t.dot(x_e)).dot(x_t).dot(ys)\n",
    "    #calculate yscipy_hat\n",
    "    yscipy_hat = np.full(xs.shape, v[0])\n",
    "    for i in range(1, degree + 1):\n",
    "        yscipy_hat = [y_hat + v[i] * (x ** i) for (x, y_hat) in zip(xs, yscipy_hat)]\n",
    "                  \n",
    "    # calculate y_hat\n",
    "    ys_hat = np.full(xs.shape, v1[0])\n",
    "    for i in range(1, degree + 1):\n",
    "        ys_hat = np.array([y_hat + v1[i] * (x ** i) for (x, y_hat) in zip(xs, ys_hat)], dtype = np.longdouble)\n",
    "    \n",
    "    #calculate square error\n",
    "    error = square_error(ys, yscipy_hat)\n",
    "    #print(backward_error(xs,ys,v1))\n",
    "    error1 = square_error(ys, ys_hat)\n",
    "    return error, v, error1, v1\n",
    "\n",
    "deg = 5\n",
    "\n",
    "def fff(filename):\n",
    "    this_xs, this_ys = load_points_from_file(filename)\n",
    "    print(filename)\n",
    "    this_xs_chunks = split_list(this_xs)\n",
    "    this_ys_chunks = split_list(this_ys)\n",
    "    assert(len(this_xs_chunks)==len(this_ys_chunks))\n",
    "    for (xs, ys) in zip(this_xs_chunks, this_ys_chunks):\n",
    "        vs5 = np.polyfit(xs, ys, deg, full=True)\n",
    "        error, poly_co = naive_poly_least_squares(xs, ys, deg)\n",
    "        serror1,spoly_co1, error1,poly_co1 = poly_least_squares(xs,ys,deg)\n",
    "        lerror, lpoly_co = lu_poly_least_squares(xs,ys,deg)\n",
    "        #print(error,poly_co)\n",
    "        #print(serror1,spoly_co1)\n",
    "        #print(error1,poly_co1)\n",
    "        #print(lerror, lpoly_co)\n",
    "        #print(vs5) \n",
    "        #print('\\n')\n",
    "        \n",
    "#fff('train_data/adv_3.csv')\n"
   ]
  },
  {
   "cell_type": "code",
   "execution_count": 464,
   "metadata": {
    "pycharm": {
     "name": "#%%\n"
    }
   },
   "outputs": [],
   "source": [
    "def choose_model(xs, ys, degree=2):\n",
    "    #calculate polynomial errors\n",
    "    #linear error is a special case of poly error(when degree=1)\n",
    "    lu_poly_errors = np.zeros(degree + 1, dtype = np.longdouble) #note the index, initial an array to store polynomial errors\n",
    "    for i in range(1, degree + 1):\n",
    "        lu_poly_errors[i], _ = lu_poly_least_squares(xs, ys, i)\n",
    "    print(\"lu_polyerrors:\", lu_poly_errors)\n",
    "    \n",
    "    #choose the least polynomial errors\n",
    "    flag = 1\n",
    "    for i in range(2, degree + 1):\n",
    "        if lu_poly_errors[i] < 0.87*lu_poly_errors[i-1] and not(lu_poly_errors[i]<1 and lu_poly_errors[flag]<1):\n",
    "            flag = i\n",
    "            \n",
    "    #print out poly-result\n",
    "    print(\"the poly degree is: \", flag, \"its square error is:\", lu_poly_errors[flag])\n",
    "    \n",
    "    sin_error, sin_co=sin_least_squares(xs, ys, 1)\n",
    "    print(\"the sin error is: \", sin_error)\n",
    "    \n",
    "    if sin_error < lu_poly_errors[flag]:\n",
    "        flag = 0\n",
    "        \n",
    "    return flag\n",
    "    \"\"\"\n",
    "    #calculate sin errors\n",
    "    sin_errors = np.zeros(degree + 1) #note the index\n",
    "    for i in range(1, degree + 1):\n",
    "        sin_errors[i], _ = sin_least_squares(xs, ys, i)\n",
    "    print(\"sinerrors:\", sin_errors)\n",
    "    \n",
    "    #choose the least polynomial errors\n",
    "    min_sin_degree = 1\n",
    "    for i in range(2, degree + 1):\n",
    "        if sin_errors[i] < sin_errors[min_sin_degree]:\n",
    "            min_sin_degree = i\n",
    "    \n",
    "    #print out sin-result\n",
    "    print(\"the sin degree is: \", min_sin_degree, \"its square error is:\", sin_errors[min_sin_degree])\n",
    " \n",
    "choose_model(xs,ys,5)\"\"\""
   ]
  },
  {
   "cell_type": "code",
   "execution_count": 465,
   "metadata": {},
   "outputs": [],
   "source": [
    "def polydeg2(xs, ys):\n",
    "    \n",
    "    ones = np.ones(xs.shape)\n",
    "    x_1 = np.column_stack((ones,xs))\n",
    "    print(x_1)\n",
    "    x_e = np.column_stack((x_1, xs**2))\n",
    "    print(x_e)\n",
    "    coef = np.linalg.inv(x_e.T @ x_e) @ x_e.T @ ys\n",
    "    print(coef)\n",
    "    ys_pre = coef[0] + coef[1] * xs + coef[2] * xs ** 2\n",
    "    print(ys_pre)\n",
    "    error_poly = np.sum((ys-ys_pre)**2)\n",
    "    print(error_poly)\n",
    "\n",
    "            "
   ]
  },
  {
   "cell_type": "code",
   "execution_count": 466,
   "metadata": {},
   "outputs": [],
   "source": [
    "def test_cong(xs, ys):\n",
    "    #print(\"c\")\n",
    "    #polydeg2(xs, ys)\n",
    "    print(\"d\")\n",
    "    naive_poly_least_squares(xs, ys, degree=3)\n",
    "    "
   ]
  },
  {
   "cell_type": "code",
   "execution_count": 467,
   "metadata": {},
   "outputs": [],
   "source": [
    "def compare_poly_methods(filename):\n",
    "    this_xs, this_ys = load_points_from_file(filename)\n",
    "    print(filename)\n",
    "    this_xs_chunks = split_list(this_xs)\n",
    "    this_ys_chunks = split_list(this_ys)\n",
    "    degree = 3\n",
    "    for (xs, ys) in zip(this_xs_chunks, this_ys_chunks):\n",
    "        #degree = choose_model(xs, ys)\n",
    "        #print(naive_poly_least_squares(xs, ys,degree))\n",
    "        #print(poly_least_squares(xs, ys,degree))\n",
    "        #print(scipy_poly_least_squares(xs, ys,degree))\n",
    "        print(lu_poly_least_squares(xs,ys,degree))\n",
    "        vs5 = np.polyfit(xs, ys, degree, full=True)\n",
    "        print(vs5)\n",
    "        #print(np.polynomial.polynomial.Polynomial.fit(xs,ys,degree).convert())\n",
    "        print(\"\\n\")\n",
    "        \n",
    "    # Add data to list\n",
    "    #all_xs.append(D)"
   ]
  },
  {
   "cell_type": "code",
   "execution_count": 468,
   "metadata": {},
   "outputs": [],
   "source": [
    "#compare_poly_methods('train_data/adv_3.csv')"
   ]
  },
  {
   "cell_type": "code",
   "execution_count": 469,
   "metadata": {
    "pycharm": {
     "name": "#%%\n"
    }
   },
   "outputs": [],
   "source": [
    "def sin_least_squares(xs, ys, degree):\n",
    "    xs = np.array(xs, dtype = np.longdouble)\n",
    "    ys = np.array(ys, dtype = np.longdouble)\n",
    "    \n",
    "    # construct the X matrix\n",
    "    # extend the first column with 1s\n",
    "    x_e = np.ones(xs.shape)\n",
    "    for i in range(1, degree + 1):\n",
    "        new_col = [((np.sin(x)) ** i) for x in xs]\n",
    "        x_e = np.column_stack((x_e, new_col))\n",
    "    \n",
    "    \"\"\"A.dot(COEF) = ys\"\"\"\n",
    "    A = x_e.T.dot(x_e)\n",
    "    L,U = LU_decomposition(A)\n",
    "    bv = (x_e.T).dot(ys)\n",
    "    Y = forward_sub(L,bv)\n",
    "    COEF = backward_sub(U, Y)\n",
    "    v = COEF\n",
    "    \n",
    "    # calculate y_hat\n",
    "    ys_hat = np.full(xs.shape, v[0])\n",
    "    for i in range(1, degree + 1):\n",
    "        ys_hat = [y_hat + v[i] * ((np.sin(x)) ** i) for (x, y_hat) in zip(xs, ys_hat)]\n",
    "    \n",
    "    #calculate square error\n",
    "    error = square_error(ys, ys_hat)\n",
    "    #print(backward_error(xs,ys,v))\n",
    "    return error, v\n",
    "\n",
    "#sin_least_squares(xs, ys, 1)"
   ]
  },
  {
   "cell_type": "code",
   "execution_count": 470,
   "metadata": {
    "pycharm": {
     "name": "#%%\n"
    }
   },
   "outputs": [],
   "source": [
    "def visual(xs, ys):\n",
    "    fig0, ax0 = plt.subplots() \n",
    "    ax0.scatter(xs, ys)\n",
    "    plt.show()"
   ]
  },
  {
   "cell_type": "code",
   "execution_count": 471,
   "metadata": {},
   "outputs": [
    {
     "name": "stdout",
     "output_type": "stream",
     "text": [
      "train_data/basic_5.csv\n",
      "1.0501316370302109154e-25\n",
      "[-338.18952235  352.53200858]\n"
     ]
    }
   ],
   "source": [
    "def test_data(filename):\n",
    "    this_xs, this_ys = load_points_from_file(filename)\n",
    "    print(filename)\n",
    "    this_xs_chunks = split_list(this_xs)\n",
    "    this_ys_chunks = split_list(this_ys)\n",
    "    assert(len(this_xs_chunks)==len(this_ys_chunks))\n",
    "    for (xs, ys) in zip(this_xs_chunks, this_ys_chunks):\n",
    "        #visual(xs, ys)\n",
    "        #test_cong(xs, ys)\n",
    "        sin_numpy(xs,ys,degree = 1)\n",
    "        #choose_model(xs, ys, 3)\n",
    "    \n",
    "#test_data(\"train_data/basic_1.csv\")\n",
    "#test_data(\"train_data/basic_2.csv\")\n",
    "#test_data(\"train_data/basic_3.csv\")\n",
    "#test_data(\"train_data/basic_4.csv\")\n",
    "test_data(\"train_data/basic_5.csv\")\n",
    "\n",
    "#test_data(\"train_data/noise_1.csv\")\n",
    "#test_data(\"train_data/noise_2.csv\")\n",
    "#test_data(\"train_data/noise_3.csv\")\n",
    "\n",
    "#test_data(\"train_data/adv_1.csv\")\n",
    "#test_data(\"train_data/adv_2.csv\")\n",
    "#test_data(\"train_data/adv_3.csv\")"
   ]
  },
  {
   "cell_type": "code",
   "execution_count": 472,
   "metadata": {
    "pycharm": {
     "name": "#%%\n"
    }
   },
   "outputs": [
    {
     "name": "stdout",
     "output_type": "stream",
     "text": [
      "train_data/basic_5.csv\n",
      "1.0501316370302109154e-25\n",
      "[-338.18952235  352.53200858]\n"
     ]
    }
   ],
   "source": [
    "test_data(\"train_data/basic_5.csv\")\n"
   ]
  }
 ],
 "metadata": {
  "kernelspec": {
   "display_name": "Python 3",
   "language": "python",
   "name": "python3"
  },
  "language_info": {
   "codemirror_mode": {
    "name": "ipython",
    "version": 3
   },
   "file_extension": ".py",
   "mimetype": "text/x-python",
   "name": "python",
   "nbconvert_exporter": "python",
   "pygments_lexer": "ipython3",
   "version": "3.8.0"
  }
 },
 "nbformat": 4,
 "nbformat_minor": 4
}
