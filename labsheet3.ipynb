{
 "cells": [
  {
   "cell_type": "markdown",
   "metadata": {},
   "source": [
    "# Lab 3: Least Squares Method \n",
    "\n",
    "\n",
    "## Introduction\n",
    "In this lab we will introduce you to the least squares method which is used to reconstruct a line (i.e. find its parameters) from a series of points. \n",
    "\n",
    "This lab also serves as an introduction to the CW1: Unknown Signal, which will require you to extend the least squares method to non-linear applications.\n",
    "\n",
    "As always we'll begin by importing the necessary modules for the lab."
   ]
  },
  {
   "cell_type": "code",
   "execution_count": 13,
   "metadata": {},
   "outputs": [],
   "source": [
    "from __future__ import print_function # to avoid issues between Python 2 and 3 printing\n",
    "\n",
    "import numpy as np\n",
    "from skimage import data, io, color, transform, exposure\n",
    "from scipy import stats\n",
    "import matplotlib.pyplot as plt\n",
    "\n",
    "# show matplotlib figures inline\n",
    "%matplotlib inline"
   ]
  },
  {
   "cell_type": "code",
   "execution_count": 14,
   "metadata": {},
   "outputs": [],
   "source": [
    "# By default we set figures to be 6\"x4\" on a 110 dots per inch (DPI) screen \n",
    "# (adjust DPI if you have a high res screen!)\n",
    "plt.rc('figure', figsize=(6, 4), dpi=110)\n",
    "plt.rc('font', size=10)"
   ]
  },
  {
   "cell_type": "markdown",
   "metadata": {},
   "source": [
    "## 1.  Get some numbers\n",
    "\n",
    "We'll begin by generating a series of points from a given equation with noise applied.\n",
    "\n",
    "Generate a sequence of 10 numbers, using the following equation\n",
    "\n",
    "$$\n",
    "y_i=0.2+0.5x_i+e_i\n",
    "$$\n",
    "\n",
    "where $x_i$ is a *uniformly distributed* random number between 0 and 1 and $e_i$ is a *random* number from $\\mathcal{N}(\\mu = 0, \\sigma^2 = 0.01)$."
   ]
  },
  {
   "cell_type": "code",
   "execution_count": 15,
   "metadata": {},
   "outputs": [
    {
     "name": "stdout",
     "output_type": "stream",
     "text": [
      "[0.83120624 0.27761099 0.94040663 0.82393632 0.58459985 0.44235848\n",
      " 0.1021631  0.21059249 0.22816679 0.71962091]\n",
      "[0.66205243 0.32852863 0.49375023 0.47990396 0.39374364 0.25362087\n",
      " 0.18077398 0.40216601 0.38061243 0.51331178]\n"
     ]
    }
   ],
   "source": [
    "# write your code here\n",
    "x = np.random.random(10)\n",
    "print(x)\n",
    "e = np.random.normal(0, 0.1, 10)\n",
    "y = 0.2 + 0.5 * x + e\n",
    "print(y)"
   ]
  },
  {
   "cell_type": "markdown",
   "metadata": {},
   "source": [
    "Generate a scatter plot of $y_i$ versus $x_i$."
   ]
  },
  {
   "cell_type": "code",
   "execution_count": 16,
   "metadata": {},
   "outputs": [
    {
     "data": {
      "text/plain": [
       "<matplotlib.collections.PathCollection at 0x7fc6d56970a0>"
      ]
     },
     "execution_count": 16,
     "metadata": {},
     "output_type": "execute_result"
    },
    {
     "data": {
      "image/png": "[encoded data removed]",
      "text/plain": [
       "<Figure size 660x440 with 1 Axes>"
      ]
     },
     "metadata": {
      "needs_background": "light"
     },
     "output_type": "display_data"
    }
   ],
   "source": [
    "# write your code here\n",
    "fig, ax = plt.subplots()\n",
    "ax.scatter(x,y)"
   ]
  },
  {
   "cell_type": "markdown",
   "metadata": {},
   "source": [
    "## 2. Create a general function\n",
    "\n",
    "Change the above code to a function that receives the parameters $a$, $b$ and $n$ for the equation $y_i = a + b x_i + e_i$ and returns $n$ samples as shown in the previous exercise.  \n",
    "\n",
    "Use the code to generate 100 samples from the equation above and visualise them."
   ]
  },
  {
   "cell_type": "code",
   "execution_count": 17,
   "metadata": {},
   "outputs": [
    {
     "data": {
      "text/plain": [
       "<matplotlib.collections.PathCollection at 0x7fc6d5621040>"
      ]
     },
     "execution_count": 17,
     "metadata": {},
     "output_type": "execute_result"
    },
    {
     "data": {
      "image/png": "[encoded data removed]",
      "text/plain": [
       "<Figure size 660x440 with 1 Axes>"
      ]
     },
     "metadata": {
      "needs_background": "light"
     },
     "output_type": "display_data"
    }
   ],
   "source": [
    "# write your code here\n",
    "def mySample (a, b, n):\n",
    "    x = np.random.random(n)\n",
    "    e = np.random.normal(0, 0.1, n)\n",
    "    y = a + b * x + e\n",
    "    return y, x\n",
    "\n",
    "y, x = mySample (0.2, 0.5, 100)\n",
    "fig,ax = plt.subplots()\n",
    "ax.scatter(y,x)"
   ]
  },
  {
   "cell_type": "markdown",
   "metadata": {},
   "source": [
    "## 3. Least squares ##\n",
    "Using the sequences ${y_i}$ and ${x_i}$ from **2**, implement the matrix form of the least squares method to determine estimates of the parameters $a$ and $b$ (which we denote as $a'$ and $b'$) assuming that $y_i=a+bx_i$.\n",
    "\n",
    "**Hints**\n",
    "* The formula for the matrix form of least squares is given by: $A=(X^T.X)^{-1}.X^T.Y$ where $A=[a',b']$.\n",
    "* It is important that you keep track of the dimensions of your matrices, especially $X$. Remember that $X^T \\cdot X$ should give a 2x2 matrix.\n",
    "* Because of the equation being in the form of $y_i=a+bx_i$ the first column of X should be all 1s.\n",
    "* You don't need to use your code for matrix inverse and can instead use the function `np.linalg.inv`."
   ]
  },
  {
   "cell_type": "code",
   "execution_count": 18,
   "metadata": {},
   "outputs": [
    {
     "name": "stdout",
     "output_type": "stream",
     "text": [
      "[[1.         0.23430106]\n",
      " [1.         0.92824575]\n",
      " [1.         0.80281493]\n",
      " [1.         0.94769842]\n",
      " [1.         0.07073604]\n",
      " [1.         0.90868357]\n",
      " [1.         0.68016417]\n",
      " [1.         0.53234039]\n",
      " [1.         0.64132537]\n",
      " [1.         0.07284972]\n",
      " [1.         0.93731827]\n",
      " [1.         0.8774765 ]\n",
      " [1.         0.31408391]\n",
      " [1.         0.66993596]\n",
      " [1.         0.52237705]\n",
      " [1.         0.57955206]\n",
      " [1.         0.52536689]\n",
      " [1.         0.53263302]\n",
      " [1.         0.18136815]\n",
      " [1.         0.55834059]\n",
      " [1.         0.1820409 ]\n",
      " [1.         0.82665566]\n",
      " [1.         0.30799427]\n",
      " [1.         0.56417324]\n",
      " [1.         0.61199779]\n",
      " [1.         0.32271077]\n",
      " [1.         0.69132758]\n",
      " [1.         0.61347158]\n",
      " [1.         0.86341797]\n",
      " [1.         0.44445555]\n",
      " [1.         0.78798907]\n",
      " [1.         0.15273468]\n",
      " [1.         0.67194829]\n",
      " [1.         0.70529354]\n",
      " [1.         0.01072387]\n",
      " [1.         0.51306529]\n",
      " [1.         0.41761088]\n",
      " [1.         0.11527949]\n",
      " [1.         0.98966785]\n",
      " [1.         0.77783737]\n",
      " [1.         0.18844327]\n",
      " [1.         0.37113606]\n",
      " [1.         0.70897126]\n",
      " [1.         0.07981069]\n",
      " [1.         0.48018373]\n",
      " [1.         0.6960838 ]\n",
      " [1.         0.83089368]\n",
      " [1.         0.02983401]\n",
      " [1.         0.89277551]\n",
      " [1.         0.66766998]\n",
      " [1.         0.53252612]\n",
      " [1.         0.0118485 ]\n",
      " [1.         0.66291287]\n",
      " [1.         0.70883473]\n",
      " [1.         0.64079026]\n",
      " [1.         0.24312546]\n",
      " [1.         0.45348069]\n",
      " [1.         0.46548347]\n",
      " [1.         0.16478562]\n",
      " [1.         0.96743341]\n",
      " [1.         0.15927594]\n",
      " [1.         0.47515366]\n",
      " [1.         0.03802385]\n",
      " [1.         0.31490127]\n",
      " [1.         0.24679537]\n",
      " [1.         0.93493627]\n",
      " [1.         0.52472283]\n",
      " [1.         0.90085127]\n",
      " [1.         0.59447127]\n",
      " [1.         0.11762451]\n",
      " [1.         0.3742041 ]\n",
      " [1.         0.81578857]\n",
      " [1.         0.88848965]\n",
      " [1.         0.79943443]\n",
      " [1.         0.31354343]\n",
      " [1.         0.61478238]\n",
      " [1.         0.55310511]\n",
      " [1.         0.00670522]\n",
      " [1.         0.66167362]\n",
      " [1.         0.21406318]\n",
      " [1.         0.68513017]\n",
      " [1.         0.09308636]\n",
      " [1.         0.15927185]\n",
      " [1.         0.05943086]\n",
      " [1.         0.50920939]\n",
      " [1.         0.87351059]\n",
      " [1.         0.88944734]\n",
      " [1.         0.68663509]\n",
      " [1.         0.50752886]\n",
      " [1.         0.9875381 ]\n",
      " [1.         0.0858514 ]\n",
      " [1.         0.24213305]\n",
      " [1.         0.17955314]\n",
      " [1.         0.87997864]\n",
      " [1.         0.31080074]\n",
      " [1.         0.21026486]\n",
      " [1.         0.20370709]\n",
      " [1.         0.09492267]\n",
      " [1.         0.98032962]\n",
      " [1.         0.24322537]]\n",
      "[0.23650095 0.47791953]\n",
      "a:  0.23650095053344772  b:  0.47791953381843716\n"
     ]
    }
   ],
   "source": [
    "# write your code here\n",
    "def least_squares(x, y):\n",
    "    # extend the first column with 1s\n",
    "    ones = np.ones(x.shape)\n",
    "    x_e = np.column_stack((ones, x))\n",
    "    print(x_e)\n",
    "    v = np.linalg.inv(x_e.T.dot(x_e)).dot(x_e.T).dot(y)\n",
    "    print(v)\n",
    "    return v\n",
    "\n",
    "a_1, b_1 = least_squares(x, y)\n",
    "print(\"a: \", a_1, \" b: \", b_1)"
   ]
  },
  {
   "cell_type": "markdown",
   "metadata": {},
   "source": [
    "### Why aren't the values of a and b the same as in the original equation?"
   ]
  },
  {
   "cell_type": "markdown",
   "metadata": {},
   "source": [
    "## 4. Line fitting and plotting\n",
    "\n",
    "Draw the line defined by the estimated values of $a'$ and $b'$ on top of the scatter plot generated in point **2**."
   ]
  },
  {
   "cell_type": "code",
   "execution_count": 19,
   "metadata": {},
   "outputs": [
    {
     "data": {
      "image/png": "[encoded data removed]",
      "text/plain": [
       "<Figure size 660x440 with 1 Axes>"
      ]
     },
     "metadata": {
      "needs_background": "light"
     },
     "output_type": "display_data"
    }
   ],
   "source": [
    "# write your code here\n",
    "\n",
    "def baline(slope, intercept):\n",
    "    \"\"\"Plot a line from slope and intercept\"\"\"\n",
    "    axes = plt.gca() \n",
    "    \"\"\"Get the current Axes instance on the current figure\"\"\"\n",
    "    x_vals = np.array(axes.get_xlim())\n",
    "    \"\"\"The current x-axis limits in data coordinates.\"\"\"\n",
    "    y_vals = intercept + slope * x_vals\n",
    "    plt.plot(x_vals, y_vals, '--')\n",
    "    \n",
    "fig1, ax1 = plt.subplots()\n",
    "ax1.scatter(x,y)\n",
    "baline(b_1,a_1)"
   ]
  },
  {
   "cell_type": "markdown",
   "metadata": {},
   "source": [
    "## 5. Outliers\n",
    "\n",
    "Add a few outliers to your data. For example, add the points $\\{(0.5, 5), (0.6, 5), (0.7, 5)\\}$ to the sampled sequences from **2**.\n",
    "\n",
    "Re-estimate the best line that fits the data after the addition of the outliers.\n",
    "\n",
    "Plot the best fit line before and after the outlier data, in a way similar to the figure below (including the colouring and the legend).\n",
    "\n",
    "\n",
    "### Hint\n",
    "* Both `plot` and `scatter` have an optional parameter label which allows you to label each series for the legend.\n",
    "* Both `plot` and `scatter` have an optional parameter c which can be passed a colour, e.g. `c='r'` will set the colour to red.\n",
    "* `ax.legend` will create a legend automatically as long as your series have been labelled.\n",
    "\n",
    "![Line fit](lineFit.jpg)"
   ]
  },
  {
   "cell_type": "code",
   "execution_count": 20,
   "metadata": {},
   "outputs": [
    {
     "name": "stdout",
     "output_type": "stream",
     "text": [
      "[[1.         0.23430106]\n",
      " [1.         0.92824575]\n",
      " [1.         0.80281493]\n",
      " [1.         0.94769842]\n",
      " [1.         0.07073604]\n",
      " [1.         0.90868357]\n",
      " [1.         0.68016417]\n",
      " [1.         0.53234039]\n",
      " [1.         0.64132537]\n",
      " [1.         0.07284972]\n",
      " [1.         0.93731827]\n",
      " [1.         0.8774765 ]\n",
      " [1.         0.31408391]\n",
      " [1.         0.66993596]\n",
      " [1.         0.52237705]\n",
      " [1.         0.57955206]\n",
      " [1.         0.52536689]\n",
      " [1.         0.53263302]\n",
      " [1.         0.18136815]\n",
      " [1.         0.55834059]\n",
      " [1.         0.1820409 ]\n",
      " [1.         0.82665566]\n",
      " [1.         0.30799427]\n",
      " [1.         0.56417324]\n",
      " [1.         0.61199779]\n",
      " [1.         0.32271077]\n",
      " [1.         0.69132758]\n",
      " [1.         0.61347158]\n",
      " [1.         0.86341797]\n",
      " [1.         0.44445555]\n",
      " [1.         0.78798907]\n",
      " [1.         0.15273468]\n",
      " [1.         0.67194829]\n",
      " [1.         0.70529354]\n",
      " [1.         0.01072387]\n",
      " [1.         0.51306529]\n",
      " [1.         0.41761088]\n",
      " [1.         0.11527949]\n",
      " [1.         0.98966785]\n",
      " [1.         0.77783737]\n",
      " [1.         0.18844327]\n",
      " [1.         0.37113606]\n",
      " [1.         0.70897126]\n",
      " [1.         0.07981069]\n",
      " [1.         0.48018373]\n",
      " [1.         0.6960838 ]\n",
      " [1.         0.83089368]\n",
      " [1.         0.02983401]\n",
      " [1.         0.89277551]\n",
      " [1.         0.66766998]\n",
      " [1.         0.53252612]\n",
      " [1.         0.0118485 ]\n",
      " [1.         0.66291287]\n",
      " [1.         0.70883473]\n",
      " [1.         0.64079026]\n",
      " [1.         0.24312546]\n",
      " [1.         0.45348069]\n",
      " [1.         0.46548347]\n",
      " [1.         0.16478562]\n",
      " [1.         0.96743341]\n",
      " [1.         0.15927594]\n",
      " [1.         0.47515366]\n",
      " [1.         0.03802385]\n",
      " [1.         0.31490127]\n",
      " [1.         0.24679537]\n",
      " [1.         0.93493627]\n",
      " [1.         0.52472283]\n",
      " [1.         0.90085127]\n",
      " [1.         0.59447127]\n",
      " [1.         0.11762451]\n",
      " [1.         0.3742041 ]\n",
      " [1.         0.81578857]\n",
      " [1.         0.88848965]\n",
      " [1.         0.79943443]\n",
      " [1.         0.31354343]\n",
      " [1.         0.61478238]\n",
      " [1.         0.55310511]\n",
      " [1.         0.00670522]\n",
      " [1.         0.66167362]\n",
      " [1.         0.21406318]\n",
      " [1.         0.68513017]\n",
      " [1.         0.09308636]\n",
      " [1.         0.15927185]\n",
      " [1.         0.05943086]\n",
      " [1.         0.50920939]\n",
      " [1.         0.87351059]\n",
      " [1.         0.88944734]\n",
      " [1.         0.68663509]\n",
      " [1.         0.50752886]\n",
      " [1.         0.9875381 ]\n",
      " [1.         0.0858514 ]\n",
      " [1.         0.24213305]\n",
      " [1.         0.17955314]\n",
      " [1.         0.87997864]\n",
      " [1.         0.31080074]\n",
      " [1.         0.21026486]\n",
      " [1.         0.20370709]\n",
      " [1.         0.09492267]\n",
      " [1.         0.98032962]\n",
      " [1.         0.24322537]\n",
      " [1.         0.5       ]\n",
      " [1.         0.6       ]\n",
      " [1.         0.7       ]]\n",
      "[0.29391255 0.62215494]\n"
     ]
    },
    {
     "data": {
      "image/png": "[encoded data removed]",
      "text/plain": [
       "<Figure size 660x440 with 1 Axes>"
      ]
     },
     "metadata": {
      "needs_background": "light"
     },
     "output_type": "display_data"
    }
   ],
   "source": [
    "# write your code here\n",
    "o_x = np.array([0.5, 0.6, 0.7])\n",
    "o_y = np.array([5.0, 5.0, 5.0])\n",
    "x_1_o = np.append( x, np.array(o_x), axis=0 )\n",
    "y_1_o = np.append( y, np.array(o_y), axis=0 )\n",
    "\n",
    "\n",
    "fig, ax = plt.subplots()\n",
    "ax.scatter( x, y, label=\"Data\" )\n",
    "ax.scatter( o_x, o_y, marker='x', color='r', label=\"Outliers\" )\n",
    "a1o, b1o = least_squares(x_1_o, y_1_o)\n",
    "baline(b1o, a1o)\n",
    "baline(b_1, a_1)\n",
    "\n",
    "ax.legend(bbox_to_anchor=(1.05, 1), loc=2, borderaxespad=0.)\n",
    "plt.show()"
   ]
  },
  {
   "cell_type": "markdown",
   "metadata": {},
   "source": [
    "## 6. Calculating the error\n",
    "\n",
    "We can now calculate the error in the predicted line using sum squared error (which is what least squares regression is minimising).\n",
    "\n",
    "Calculate the error of the best fit line and the best fit line with outliers.\n",
    "\n",
    "**Hint**\n",
    "* The sum squared error formula is $\\sum_i (\\hat{y}_i - y_i)^2$ where $\\hat{y}_i = a + bx_i$."
   ]
  },
  {
   "cell_type": "code",
   "execution_count": 21,
   "metadata": {
    "scrolled": true
   },
   "outputs": [
    {
     "name": "stdout",
     "output_type": "stream",
     "text": [
      "0.9149112289365661 59.111336454201385\n"
     ]
    }
   ],
   "source": [
    "# write your code here\n",
    "##CORRECT ANSWER##\n",
    "def square_error(y, y_hat):\n",
    "    return np.sum((y - y_hat) ** 2)\n",
    "\n",
    "y_1_hat = a_1 + b_1 * x\n",
    "y_1_o_hat = a1o + b1o * x_1_o\n",
    "\n",
    "print(square_error(y, y_1_hat), square_error(y_1_o, y_1_o_hat))\n",
    "##CORRECT ANSWER##"
   ]
  },
  {
   "cell_type": "markdown",
   "metadata": {},
   "source": [
    "## 7. Moving to a non-linear system\n",
    "\n",
    "So far we have been using the least squares method only to find the line of best fit for linear equations, however it can be extended quite easily to certain non-linear lines.\n",
    "\n",
    "Adapting this method lies in the creation of the $X$ matrix. The matrix we construct has two columns, the first a column of ones and the second a column of x values. Note how each column represents a function applied to x: $x^0$, $x^1$.\n",
    "\n",
    "If we were instead given the function $y = a + be^x$ to apply the least squares method we can just modify how we define $X$: instead of the second column including $x^1$ we can insert $e^x$.\n",
    "\n",
    "Given the set of points below, calculate $a$ and $b$ assuming they fit an exponential curve.\n",
    "### Hint\n",
    "* `np.exp(new_x)` will define the new column to add."
   ]
  },
  {
   "cell_type": "code",
   "execution_count": 22,
   "metadata": {},
   "outputs": [
    {
     "name": "stdout",
     "output_type": "stream",
     "text": [
      "[[1.00000000e+00 6.73794700e-03]\n",
      " [1.00000000e+00 1.83156389e-02]\n",
      " [1.00000000e+00 1.35335283e-01]\n",
      " [1.00000000e+00 2.23130160e-01]\n",
      " [1.00000000e+00 6.06530660e-01]\n",
      " [1.00000000e+00 1.64872127e+00]\n",
      " [1.00000000e+00 2.11700002e+00]\n",
      " [1.00000000e+00 2.71828183e+00]\n",
      " [1.00000000e+00 3.66929667e+00]\n",
      " [1.00000000e+00 6.68589444e+00]\n",
      " [1.00000000e+00 8.16616991e+00]\n",
      " [1.00000000e+00 1.10231764e+01]\n",
      " [1.00000000e+00 1.64446468e+01]\n",
      " [1.00000000e+00 2.00855369e+01]\n",
      " [1.00000000e+00 2.45325302e+01]]\n",
      "[0.39780844 1.10035113]\n",
      "a:  0.3978084428135369  b:  1.10035112551702\n"
     ]
    }
   ],
   "source": [
    "new_x = np.array([-5, -4, -2, -1.5, -0.5, 0.5, 0.75, 1, 1.3, 1.9, 2.1, 2.4, 2.8, 3, 3.2])\n",
    "new_y = np.array([0.407, 0.42, 0.549, 0.645, 1.07, 2.21, 2.73, 3.39, 4.44, 7.75, 9.38, 12.5, 18.5, 22.5, 27.4])\n",
    "\n",
    "def least_squares_ex(x, y):\n",
    "    # extend the first column with 1s\n",
    "    ones = np.ones(x.shape)\n",
    "    exp = np.exp(new_x)\n",
    "    x_e = np.column_stack((ones, exp))\n",
    "    print(x_e)\n",
    "    v = np.linalg.inv(x_e.T.dot(x_e)).dot(x_e.T).dot(y)\n",
    "    print(v)\n",
    "    return v\n",
    "\n",
    "ae, be = least_squares_ex(new_x, new_y)\n",
    "print(\"a: \", ae, \" b: \", be)\n",
    "# write your code here"
   ]
  },
  {
   "cell_type": "markdown",
   "metadata": {},
   "source": [
    "### Visualising the result\n",
    "We can now visualise the fitted line as a figure as before using `plot`. Due to the non-linear nature of the equation we can use `np.linspace(-5, 3.2, 100)` which returns 100 evenly spaced numbers in the interval between -5 and 3.2. \n",
    "\n",
    "Create a graph plotting both the original points and the fitted line as below:\n",
    "![Exp line fit](exp_line_fit.png)"
   ]
  },
  {
   "cell_type": "code",
   "execution_count": 23,
   "metadata": {},
   "outputs": [
    {
     "data": {
      "text/plain": [
       "<matplotlib.collections.PathCollection at 0x7fc6d552e970>"
      ]
     },
     "execution_count": 23,
     "metadata": {},
     "output_type": "execute_result"
    },
    {
     "data": {
      "image/png": "[encoded data removed]",
      "text/plain": [
       "<Figure size 660x440 with 1 Axes>"
      ]
     },
     "metadata": {
      "needs_background": "light"
     },
     "output_type": "display_data"
    }
   ],
   "source": [
    "##CORRECT ANSWER##\n",
    "new_xs = np.linspace(-5, 3.2, 100)\n",
    "new_y_hat = ae + be * np.exp(new_xs)\n",
    "plt.plot(new_xs, new_y_hat, c='r')\n",
    "plt.scatter(new_x, new_y)\n",
    "##CORRECT ANSWER##"
   ]
  },
  {
   "cell_type": "markdown",
   "metadata": {},
   "source": [
    "### What other types of functions can we extend this to?\n",
    "\n",
    "For example why can't we fit to the function $y=a \\cdot e^{bx}$?"
   ]
  }
 ],
 "metadata": {
  "kernelspec": {
   "display_name": "Python 3",
   "language": "python",
   "name": "python3"
  },
  "language_info": {
   "codemirror_mode": {
    "name": "ipython",
    "version": 3
   },
   "file_extension": ".py",
   "mimetype": "text/x-python",
   "name": "python",
   "nbconvert_exporter": "python",
   "pygments_lexer": "ipython3",
   "version": "3.8.0"
  }
 },
 "nbformat": 4,
 "nbformat_minor": 1
}
